{
 "cells": [
  {
   "cell_type": "code",
   "execution_count": null,
   "metadata": {},
   "outputs": [],
   "source": [
    "!pip install hummingbird_ml[extra,onnx]"
   ]
  },
  {
   "cell_type": "code",
   "execution_count": 1,
   "metadata": {},
   "outputs": [],
   "source": [
    "import torch\n",
    "import numpy as np\n",
    "import lightgbm as lgb\n",
    "\n",
    "import onnxruntime as ort\n",
    "from onnxmltools.convert import convert_lightgbm\n",
    "from onnxconverter_common.data_types import FloatTensorType\n",
    "\n",
    "from hummingbird.ml import convert\n",
    "from hummingbird.ml import constants\n",
    "\n",
    "# Create some random data for binary classification.\n",
    "num_classes = 2\n",
    "X = np.array(np.random.rand(10000, 28), dtype=np.float32)\n",
    "y = np.random.randint(num_classes, size=10000)"
   ]
  },
  {
   "cell_type": "code",
   "execution_count": 2,
   "metadata": {},
   "outputs": [
    {
     "output_type": "execute_result",
     "data": {
      "text/plain": "LGBMClassifier(boosting_type='gbdt', class_weight=None, colsample_bytree=1.0,\n               importance_type='split', learning_rate=0.1, max_depth=-1,\n               min_child_samples=20, min_child_weight=0.001, min_split_gain=0.0,\n               n_estimators=100, n_jobs=-1, num_leaves=31, objective=None,\n               random_state=None, reg_alpha=0.0, reg_lambda=0.0, silent=True,\n               subsample=1.0, subsample_for_bin=200000, subsample_freq=0)"
     },
     "metadata": {},
     "execution_count": 2
    }
   ],
   "source": [
    "# Create and train a model (LightGBM in this case).\n",
    "model = lgb.LGBMClassifier()\n",
    "model.fit(X, y)"
   ]
  },
  {
   "cell_type": "code",
   "execution_count": 3,
   "metadata": {},
   "outputs": [],
   "source": [
    "# Use ONNXMLTOOLS to convert the model to ONNXML.\n",
    "initial_types = [(\"input\", FloatTensorType([X.shape[0], X.shape[1]]))] # Define the inputs for the ONNX\n",
    "onnx_ml_model = convert_lightgbm(\n",
    "    model, initial_types=initial_types, target_opset=9\n",
    ")"
   ]
  },
  {
   "cell_type": "code",
   "execution_count": 4,
   "metadata": {},
   "outputs": [],
   "source": [
    "# Use Hummingbird to convert the ONNXML model to ONNX.\n",
    "onnx_model = convert(onnx_ml_model, \"onnx\", X)"
   ]
  },
  {
   "cell_type": "code",
   "execution_count": 5,
   "metadata": {},
   "outputs": [],
   "source": [
    "# Alternatively we can set the inital types using the extra_config parameters as in the ONNXMLTOOL converter.\n",
    "extra_config = {}\n",
    "extra_config[constants.ONNX_INITIAL_TYPES] = initial_types\n",
    "onnx_model = convert(onnx_ml_model, \"onnx\", extra_config=extra_config)"
   ]
  },
  {
   "cell_type": "code",
   "execution_count": 6,
   "metadata": {
    "tags": []
   },
   "outputs": [
    {
     "output_type": "stream",
     "name": "stdout",
     "text": "484 ms ± 20.1 ms per loop (mean ± std. dev. of 3 runs, 1 loop each)\n"
    }
   ],
   "source": [
    "%%timeit -r 3\n",
    "\n",
    "# Run the ONNX model on CPU \n",
    "onnx_model.predict(X)"
   ]
  },
  {
   "cell_type": "code",
   "execution_count": null,
   "metadata": {},
   "outputs": [],
   "source": []
  }
 ],
 "metadata": {
  "kernelspec": {
   "display_name": "Python 3",
   "language": "python",
   "name": "python3"
  },
  "language_info": {
   "codemirror_mode": {
    "name": "ipython",
    "version": 3
   },
   "file_extension": ".py",
   "mimetype": "text/x-python",
   "name": "python",
   "nbconvert_exporter": "python",
   "pygments_lexer": "ipython3",
   "version": "3.7.7"
  }
 },
 "nbformat": 4,
 "nbformat_minor": 2
}